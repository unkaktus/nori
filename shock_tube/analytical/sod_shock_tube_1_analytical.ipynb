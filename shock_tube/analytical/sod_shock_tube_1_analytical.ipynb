{
 "cells": [
  {
   "cell_type": "code",
   "execution_count": null,
   "metadata": {},
   "outputs": [],
   "source": [
    "## Reading the file\n",
    "\n",
    "import os\n",
    "import numpy as np\n",
    "import matplotlib.pyplot as plt\n",
    "\n",
    "ts = np.load(\"sod_shock_tube_1_analytical.npz\", allow_pickle=True)[\"arr_0\"].item()\n",
    "\n",
    "i = 0\n",
    "for time in ts.keys():\n",
    "    data = ts[time]\n",
    "    r = data[:,0]\n",
    "    p = data[:,1]\n",
    "    rho = data[:,2]\n",
    "    vel = data[:,3]\n",
    "    eps = data[:,4]\n",
    "    W = 1/np.sqrt(1-vel**2)\n",
    "    D = rho * W\n",
    "\n",
    "    plt.plot(r, rho)\n",
    "    plt.savefig(f\"frames/frame.{i:04d}.png\")\n",
    "    plt.close('all')\n",
    "\n",
    "    i += 1\n",
    "\n",
    "os.system(\"~/perspective/create_video.py --frame-rate=15 --frames-dir frames --output sod_shock_tube_1_analytical_rho.mp4\")\n",
    "os.system(f'rm frames/*.png')\n"
   ]
  },
  {
   "cell_type": "code",
   "execution_count": null,
   "metadata": {},
   "outputs": [],
   "source": [
    "# Create the file (requires a modified riemann_f90 binary)\n",
    "import subprocess\n",
    "\n",
    "times = np.linspace(0, 0.5, 400)\n",
    "\n",
    "solution_timeseries = {}\n",
    "\n",
    "for t in times:\n",
    "    try:\n",
    "        os.system(\"rm solution.dat\")\n",
    "    except:\n",
    "        pass\n",
    "\n",
    "    rd = {\n",
    "        \"gamma\": 5/3,\n",
    "        \"t\": t,\n",
    "        \"p_left\": 40/3,\n",
    "        \"rho_left\": 10,\n",
    "        \"v_left\": 0,\n",
    "        \"p_right\": 0,\n",
    "        \"rho_right\": 1,\n",
    "        \"v_right\": 0,\n",
    "    }\n",
    "\n",
    "    p = subprocess.run(['./riemann_f90'],\n",
    "                    input=f'{rd[\"gamma\"]}\\n{rd[\"t\"]}\\n{rd[\"p_left\"]}\\n{rd[\"rho_left\"]}\\n{rd[\"v_left\"]}\\n{rd[\"p_right\"]}\\n{rd[\"rho_right\"]}\\n{rd[\"v_right\"]}\\n',\n",
    "                    capture_output=True, text=True)\n",
    "\n",
    "    print(p.stdout)\n",
    "\n",
    "    data = np.loadtxt('solution.dat')\n",
    "    solution_timeseries[t] = data\n",
    "\n",
    "\n",
    "np.savez_compressed(\"sod_shock_tube_1_analytical2\", solution_timeseries)"
   ]
  }
 ],
 "metadata": {
  "kernelspec": {
   "display_name": "base",
   "language": "python",
   "name": "python3"
  },
  "language_info": {
   "codemirror_mode": {
    "name": "ipython",
    "version": 3
   },
   "file_extension": ".py",
   "mimetype": "text/x-python",
   "name": "python",
   "nbconvert_exporter": "python",
   "pygments_lexer": "ipython3",
   "version": "3.10.12"
  }
 },
 "nbformat": 4,
 "nbformat_minor": 2
}
