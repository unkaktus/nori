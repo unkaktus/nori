{
 "cells": [
  {
   "cell_type": "code",
   "execution_count": 3,
   "metadata": {},
   "outputs": [],
   "source": [
    "import os\n",
    "import glob\n",
    "\n",
    "import numpy as np\n",
    "import matplotlib.pyplot as plt\n",
    "\n",
    "%matplotlib inline\n",
    "\n",
    "# better pictures and legends\n",
    "plt.rc('figure', dpi=150)\n",
    "plt.rc('text', usetex=True)\n",
    "plt.rc('font', family='serif', size=10)"
   ]
  },
  {
   "cell_type": "code",
   "execution_count": 5,
   "metadata": {},
   "outputs": [
    {
     "name": "stdout",
     "output_type": "stream",
     "text": [
      "ffmpeg -vcodec png -framerate 15 -pattern_type glob -i frames/*.png -pix_fmt yuv420p -crf 1 -vf pad=ceil(iw/2)*2:ceil(ih/2)*2 -threads 10 -preset fast -an -y movie.mp4\n"
     ]
    },
    {
     "name": "stderr",
     "output_type": "stream",
     "text": [
      "ffmpeg version 6.0 Copyright (c) 2000-2023 the FFmpeg developers\n",
      "  built with clang version 15.0.7\n",
      "  configuration: --prefix=/Users/runner/miniforge3/conda-bld/ffmpeg_1696213807101/_h_env_placehold_placehold_placehold_placehold_placehold_placehold_placehold_placehold_placehold_placehold_placehold_placehold_placehold_placehold_placehold_placehold_placehold_placehold_placehold_pl --cc=arm64-apple-darwin20.0.0-clang --cxx=arm64-apple-darwin20.0.0-clang++ --nm=arm64-apple-darwin20.0.0-nm --ar=arm64-apple-darwin20.0.0-ar --disable-doc --disable-openssl --enable-demuxer=dash --enable-hardcoded-tables --enable-libfreetype --enable-libfontconfig --enable-libopenh264 --enable-libdav1d --enable-cross-compile --arch=arm64 --target-os=darwin --cross-prefix=arm64-apple-darwin20.0.0- --host-cc=/Users/runner/miniforge3/conda-bld/ffmpeg_1696213807101/_build_env/bin/x86_64-apple-darwin13.4.0-clang --enable-neon --enable-gnutls --enable-libmp3lame --enable-libvpx --enable-libass --enable-pthreads --enable-gpl --enable-libx264 --enable-libx265 --enable-libaom --enable-libsvtav1 --enable-libxml2 --enable-pic --enable-shared --disable-static --enable-version3 --enable-zlib --enable-libopus --pkg-config=/Users/runner/miniforge3/conda-bld/ffmpeg_1696213807101/_build_env/bin/pkg-config\n",
      "  libavutil      58.  2.100 / 58.  2.100\n",
      "  libavcodec     60.  3.100 / 60.  3.100\n",
      "  libavformat    60.  3.100 / 60.  3.100\n",
      "  libavdevice    60.  1.100 / 60.  1.100\n",
      "  libavfilter     9.  3.100 /  9.  3.100\n",
      "  libswscale      7.  1.100 /  7.  1.100\n",
      "  libswresample   4. 10.100 /  4. 10.100\n",
      "  libpostproc    57.  1.100 / 57.  1.100\n",
      "Input #0, image2, from 'frames/*.png':\n",
      "  Duration: 00:00:13.40, start: 0.000000, bitrate: N/A\n",
      "  Stream #0:0: Video: png, rgba(pc), 960x720 [SAR 5906:5906 DAR 4:3], 15 fps, 15 tbr, 15 tbn\n",
      "Stream mapping:\n",
      "  Stream #0:0 -> #0:0 (png (native) -> h264 (libx264))\n",
      "Press [q] to stop, [?] for help\n",
      "[libx264 @ 0x13872b670] using SAR=1/1\n",
      "[libx264 @ 0x13872b670] using cpu capabilities: ARMv8 NEON\n",
      "[libx264 @ 0x13872b670] profile High, level 3.1, 4:2:0, 8-bit\n",
      "[libx264 @ 0x13872b670] 264 - core 164 r3095 baee400 - H.264/MPEG-4 AVC codec - Copyleft 2003-2022 - http://www.videolan.org/x264.html - options: cabac=1 ref=2 deblock=1:0:0 analyse=0x3:0x113 me=hex subme=6 psy=1 psy_rd=1.00:0.00 mixed_ref=1 me_range=16 chroma_me=1 trellis=1 8x8dct=1 cqm=0 deadzone=21,11 fast_pskip=1 chroma_qp_offset=-2 threads=10 lookahead_threads=1 sliced_threads=0 nr=0 decimate=1 interlaced=0 bluray_compat=0 constrained_intra=0 bframes=3 b_pyramid=2 b_adapt=1 b_bias=0 direct=1 weightb=1 open_gop=0 weightp=1 keyint=250 keyint_min=15 scenecut=40 intra_refresh=0 rc_lookahead=30 rc=crf mbtree=1 crf=1.0 qcomp=0.60 qpmin=0 qpmax=69 qpstep=4 ip_ratio=1.40 aq=1:1.00\n",
      "Output #0, mp4, to 'movie.mp4':\n",
      "  Metadata:\n",
      "    encoder         : Lavf60.3.100\n",
      "  Stream #0:0: Video: h264 (avc1 / 0x31637661), yuv420p(tv, progressive), 960x720 [SAR 1:1 DAR 4:3], q=2-31, 15 fps, 15360 tbn\n",
      "    Metadata:\n",
      "      encoder         : Lavc60.3.100 libx264\n",
      "    Side data:\n",
      "      cpb: bitrate max/min/avg: 0/0/0 buffer size: 0 vbv_delay: N/A\n",
      "frame=  201 fps=0.0 q=-1.0 Lsize=    5871kB time=00:00:13.20 bitrate=3643.4kbits/s speed=  15x     \n",
      "video:5867kB audio:0kB subtitle:0kB other streams:0kB global headers:0kB muxing overhead: 0.054974%\n",
      "[libx264 @ 0x13872b670] frame I:1     Avg QP: 0.50  size: 84422\n",
      "[libx264 @ 0x13872b670] frame P:52    Avg QP: 0.84  size: 39481\n",
      "[libx264 @ 0x13872b670] frame B:148   Avg QP: 0.72  size: 26150\n",
      "[libx264 @ 0x13872b670] consecutive B-frames:  0.5%  0.0% 11.9% 87.6%\n",
      "[libx264 @ 0x13872b670] mb I  I16..4: 63.2% 10.0% 26.8%\n",
      "[libx264 @ 0x13872b670] mb P  I16..4: 10.3%  7.0%  8.7%  P16..4:  7.2%  6.7%  6.3%  0.0%  0.0%    skip:53.7%\n",
      "[libx264 @ 0x13872b670] mb B  I16..4:  3.9%  1.2%  0.5%  B16..8: 15.2% 14.2%  0.8%  direct: 7.4%  skip:56.9%  L0:48.1% L1:46.2% BI: 5.7%\n",
      "[libx264 @ 0x13872b670] 8x8 transform intra:24.2% inter:8.3%\n",
      "[libx264 @ 0x13872b670] coded y,uvDC,uvAC intra: 63.0% 84.1% 83.4% inter: 21.9% 32.3% 31.1%\n",
      "[libx264 @ 0x13872b670] i16 v,h,dc,p: 68%  9%  7% 16%\n",
      "[libx264 @ 0x13872b670] i8 v,h,dc,ddl,ddr,vr,hd,vl,hu: 18%  8% 20%  8% 19%  8%  7%  7%  5%\n",
      "[libx264 @ 0x13872b670] i4 v,h,dc,ddl,ddr,vr,hd,vl,hu: 32% 14% 29%  6%  8%  3%  3%  2%  2%\n",
      "[libx264 @ 0x13872b670] i8c dc,h,v,p: 30%  9% 33% 28%\n",
      "[libx264 @ 0x13872b670] Weighted P-Frames: Y:0.0% UV:0.0%\n",
      "[libx264 @ 0x13872b670] ref P L0: 81.0% 19.0%\n",
      "[libx264 @ 0x13872b670] ref B L0: 92.2%  7.8%\n",
      "[libx264 @ 0x13872b670] ref B L1: 97.3%  2.7%\n",
      "[libx264 @ 0x13872b670] kb/s:3586.64\n"
     ]
    },
    {
     "data": {
      "text/plain": [
       "0"
      ]
     },
     "execution_count": 5,
     "metadata": {},
     "output_type": "execute_result"
    }
   ],
   "source": [
    "N = 400\n",
    "ranks = 8\n",
    "\n",
    "os.makedirs(\"frames\", exist_ok=True)\n",
    "i = 0\n",
    "try:\n",
    "    os.system(\"rm ./frames/*\")\n",
    "except:\n",
    "    pass\n",
    "\n",
    "n_iterations = len(glob.glob(\"data/u_rank0_*.dat\"))\n",
    "\n",
    "for i in range(0, n_iterations):\n",
    "    data_reassembled = None\n",
    "    for rank in range(ranks):\n",
    "        filename = f\"data/u_rank{rank}_i{i:04d}.dat\"\n",
    "        data = np.fromfile(filename, dtype='float64')\n",
    "        data = data.reshape((-1, N))\n",
    "        if rank%2 == 0:\n",
    "            data = -data\n",
    "        if data_reassembled is None:\n",
    "            data_reassembled = np.copy(data)\n",
    "        else:\n",
    "            data_reassembled = np.vstack((data_reassembled, data))\n",
    "\n",
    "\n",
    "    ax = plt.gca()\n",
    "    ax.pcolormesh(data_reassembled.T,vmin=-1.2, vmax=1.2, cmap='viridis')\n",
    "    ax.set_aspect('equal')\n",
    "    plt.savefig(f\"frames/frame.{i:04d}.png\")\n",
    "    plt.close('all')\n",
    "\n",
    "os.system(\"~/tilde/perspective/create_video.py --frame-rate=15 --frames-dir frames --output movie.mp4\")\n"
   ]
  }
 ],
 "metadata": {
  "kernelspec": {
   "display_name": "base",
   "language": "python",
   "name": "python3"
  },
  "language_info": {
   "codemirror_mode": {
    "name": "ipython",
    "version": 3
   },
   "file_extension": ".py",
   "mimetype": "text/x-python",
   "name": "python",
   "nbconvert_exporter": "python",
   "pygments_lexer": "ipython3",
   "version": "3.10.12"
  }
 },
 "nbformat": 4,
 "nbformat_minor": 2
}
